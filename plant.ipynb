{
 "cells": [
  {
   "cell_type": "code",
   "execution_count": 1,
   "metadata": {},
   "outputs": [
    {
     "ename": "ModuleNotFoundError",
     "evalue": "No module named 'tensorflow'",
     "output_type": "error",
     "traceback": [
      "\u001b[1;31m---------------------------------------------------------------------------\u001b[0m",
      "\u001b[1;31mModuleNotFoundError\u001b[0m                       Traceback (most recent call last)",
      "Cell \u001b[1;32mIn[1], line 5\u001b[0m\n\u001b[0;32m      3\u001b[0m \u001b[38;5;28;01mimport\u001b[39;00m \u001b[38;5;21;01mrandom\u001b[39;00m\n\u001b[0;32m      4\u001b[0m \u001b[38;5;28;01mimport\u001b[39;00m \u001b[38;5;21;01mnumpy\u001b[39;00m \u001b[38;5;28;01mas\u001b[39;00m \u001b[38;5;21;01mnp\u001b[39;00m\n\u001b[1;32m----> 5\u001b[0m \u001b[38;5;28;01mimport\u001b[39;00m \u001b[38;5;21;01mtensorflow\u001b[39;00m \u001b[38;5;28;01mas\u001b[39;00m \u001b[38;5;21;01mtf\u001b[39;00m\n\u001b[0;32m      6\u001b[0m random\u001b[38;5;241m.\u001b[39mseed(\u001b[38;5;241m0\u001b[39m)\n\u001b[0;32m      7\u001b[0m np\u001b[38;5;241m.\u001b[39mrandom\u001b[38;5;241m.\u001b[39mseed(\u001b[38;5;241m0\u001b[39m)\n",
      "\u001b[1;31mModuleNotFoundError\u001b[0m: No module named 'tensorflow'"
     ]
    }
   ],
   "source": [
    "#upload json file here\n",
    "#initialize all the random function to 0\n",
    "import random\n",
    "import numpy as np\n",
    "import tensorflow as tf\n",
    "random.seed(0)\n",
    "np.random.seed(0)\n",
    "tf.random.set_seed(0)"
   ]
  },
  {
   "cell_type": "code",
   "execution_count": 2,
   "metadata": {},
   "outputs": [],
   "source": [
    "import os\n",
    "import json\n",
    "from zipfile import ZipFile\n",
    "import matplotlib.pyplot as plt\n",
    "import matplotlib.image as mpimg\n",
    "from PIL import Image\n",
    "from tensorflow.keras.preprocessing.image import ImageDataGenerator\n",
    "from tensorflow.keras import layers,models"
   ]
  },
  {
   "cell_type": "code",
   "execution_count": 5,
   "metadata": {},
   "outputs": [],
   "source": [
    "#setup kaggle API to colab\n",
    "abhi=json.load(open(\"kaggle.json\"))\n"
   ]
  },
  {
   "cell_type": "code",
   "execution_count": 1,
   "metadata": {},
   "outputs": [
    {
     "ename": "NameError",
     "evalue": "name 'abhi' is not defined",
     "output_type": "error",
     "traceback": [
      "\u001b[1;31m---------------------------------------------------------------------------\u001b[0m",
      "\u001b[1;31mNameError\u001b[0m                                 Traceback (most recent call last)",
      "Cell \u001b[1;32mIn[1], line 1\u001b[0m\n\u001b[1;32m----> 1\u001b[0m os\u001b[38;5;241m.\u001b[39menviron[\u001b[38;5;124m'\u001b[39m\u001b[38;5;124mKAGGLE_USERNAME\u001b[39m\u001b[38;5;124m'\u001b[39m]\u001b[38;5;241m=\u001b[39mabhi[\u001b[38;5;124m'\u001b[39m\u001b[38;5;124musername\u001b[39m\u001b[38;5;124m'\u001b[39m]\n\u001b[0;32m      2\u001b[0m os\u001b[38;5;241m.\u001b[39menviron[\u001b[38;5;124m'\u001b[39m\u001b[38;5;124mKAGGLE_KEY\u001b[39m\u001b[38;5;124m'\u001b[39m]\u001b[38;5;241m=\u001b[39mabhi[\u001b[38;5;124m'\u001b[39m\u001b[38;5;124mkey\u001b[39m\u001b[38;5;124m'\u001b[39m]\n",
      "\u001b[1;31mNameError\u001b[0m: name 'abhi' is not defined"
     ]
    }
   ],
   "source": [
    "os.environ['KAGGLE_USERNAME']=abhi['username']\n",
    "os.environ['KAGGLE_KEY']=abhi['key']"
   ]
  },
  {
   "cell_type": "code",
   "execution_count": 8,
   "metadata": {},
   "outputs": [
    {
     "ename": "",
     "evalue": "",
     "output_type": "error",
     "traceback": [
      "\u001b[1;31mThe Kernel crashed while executing code in the current cell or a previous cell. \n",
      "\u001b[1;31mPlease review the code in the cell(s) to identify a possible cause of the failure. \n",
      "\u001b[1;31mClick <a href='https://aka.ms/vscodeJupyterKernelCrash'>here</a> for more info. \n",
      "\u001b[1;31mView Jupyter <a href='command:jupyter.viewOutput'>log</a> for further details."
     ]
    }
   ],
   "source": [
    "#extract the zip file\n",
    "f1=ZipFile('archive (3).zip')\n",
    "f1.extractall()\n",
    "f1.close()\n"
   ]
  },
  {
   "cell_type": "code",
   "execution_count": null,
   "metadata": {},
   "outputs": [],
   "source": [
    "base_dir=\"plantvillage dataset/color\"\n",
    "#setting the base directory to color folder\n",
    "ipath=\"/content/plantvillage dataset/color/Apple___Apple_scab/00075aa8-d81a-4184-8541-b692b78d398a___FREC_Scab 3335.JPG\"\n",
    "img=mpimg.imread(ipath)\n",
    "plt.imshow(img)\n",
    "plt.axis(\"off\")"
   ]
  },
  {
   "cell_type": "code",
   "execution_count": null,
   "metadata": {},
   "outputs": [],
   "source": [
    "img.shape\n",
    "#make all the images uniform\n",
    "img_size=224\n",
    "batch_size=32\n",
    "data_gen=ImageDataGenerator(rescale=1./255,validation_split=0.2)\n",
    "\n",
    "#validation split is a testing size\n",
    "train_generator=data_gen.flow_from_directory(base_dir,target_size=(img_size,img_size),batch_size=batch_size,class_mode=\"categorical\",subset=\"training\")\n",
    "#validation split is a testing size\n",
    "validation_generator=data_gen.flow_from_directory(base_dir,target_size=(img_size,img_size),batch_size=batch_size,class_mode=\"categorical\",subset=\"validation\")\n",
    "#making of neural network\n",
    "model=models.Sequential()\n",
    "model.add(layers.Conv2D(32,(3,3),activation=\"relu\",input_shape=(img_size,img_size,3)))\n",
    "model.add(layers.MaxPooling2D((2,2)))\n",
    "model.add(layers.Conv2D(32,(3,3),activation=\"relu\"))\n",
    "model.add(layers.MaxPooling2D((2,2)))\n",
    "model.add(layers.Flatten())\n",
    "model.add(layers.Dense(256,activation=\"relu\"))\n",
    "model.add(layers.Dense(train_generator.num_classes,activation=\"softmax\"))\n",
    "\n",
    "model.summary()\n",
    "np.array([[1,2,3]]).flatten()\n",
    "model.compile(optimizer=\"adam\",loss=\"categorical_crossentropy\",metrics=[\"accuracy\"])\n",
    "model.fit(train_generator,\n",
    "          steps_per_epoch=train_generator.samples//batch_size,\n",
    "          epochs=5,validation_data=validation_generator,\n",
    "          validation_steps=validation_generator.samples//batch_size)\n",
    "model.save(\"abhi.h5\")\n",
    "#above line is saving the model\n",
    "#extract the classes from data with indexes\n",
    "abhi_classes={v:k for k,v in train_generator.class_indices.items()}\n",
    "#saving key as index and value as disease in above line\n",
    "json.dump(abhi_classes,open(\"abhi_classes.json\",\"w\"))\n",
    "def load_preprocess_image(ipath,target_size=(224,224)):\n",
    "  img=Image.open(ipath)\n",
    "  img=img.resize(target_size)\n",
    "  img_array=np.array(img)\n",
    "  img_array=np.expand_dims(img_array,axis=0)\n",
    "  img_array=img_array.astype(\"float32\")/255.\n",
    "  return img_array\n",
    "#above cell is resizing of image\n",
    "def predict_disease(model,ipath,class_indices):\n",
    "  preprocess_img=load_preprocess_image(ipath)\n",
    "  prediction=model.predict(preprocess_img)\n",
    "  predicted_class_index=np.argmax(prediction,axis=1)[0]\n",
    "  predicted_class=class_indices[predicted_class_index]\n",
    "  return predicted_class\n",
    "#axis=1 is pulling the data from the column,0 is top mo\n",
    "#Get image path\n",
    "i1=\"/content/plantvillage dataset/color/Blueberry___healthy/0137389a-9b78-4a94-afdb-c2b50861f89c___RS_HL 2347.JPG\"\n",
    "i2=\"/content/plantvillage dataset/color/Grape___Black_rot/00090b0f-c140-4e77-8d20-d39f67b75fcc___FAM_B.Rot 0376.JPG\"\n",
    "\n",
    "predict_disease(model,i2,abhi_classes)\n",
    "predict_disease(model,\"/content/leaf.jpeg\",abhi_classes)"
   ]
  }
 ],
 "metadata": {
  "kernelspec": {
   "display_name": "Python 3",
   "language": "python",
   "name": "python3"
  },
  "language_info": {
   "codemirror_mode": {
    "name": "ipython",
    "version": 3
   },
   "file_extension": ".py",
   "mimetype": "text/x-python",
   "name": "python",
   "nbconvert_exporter": "python",
   "pygments_lexer": "ipython3",
   "version": "3.12.8"
  }
 },
 "nbformat": 4,
 "nbformat_minor": 2
}
